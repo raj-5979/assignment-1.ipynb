{
 "cells": [
  {
   "cell_type": "code",
   "execution_count": 4,
   "metadata": {},
   "outputs": [
    {
     "name": "stdout",
     "output_type": "stream",
     "text": [
      "65\n"
     ]
    }
   ],
   "source": [
    "def median (a,l,r):\n",
    "    n=r-l+1\n",
    "    n=(n+1)//2-1\n",
    "    return n+l\n",
    "def IQR(a,n):\n",
    "    a.sort()\n",
    "    mid_index=median(a,0,n)\n",
    "    Q1=a[median(a,0,mid_index)]\n",
    "    Q3=a[median(a,mid_index+1,n)]\n",
    "    return (Q3-Q1)\n",
    "if __name__=='__main__':\n",
    "    a=[23,14,13,56,78,98,12]\n",
    "    n=len(a)\n",
    "    print(IQR(a,n))"
   ]
  },
  {
   "cell_type": "code",
   "execution_count": null,
   "metadata": {},
   "outputs": [],
   "source": []
  },
  {
   "cell_type": "code",
   "execution_count": null,
   "metadata": {},
   "outputs": [],
   "source": []
  },
  {
   "cell_type": "code",
   "execution_count": 3,
   "metadata": {},
   "outputs": [
    {
     "data": {
      "image/png": "[encoded data removed]",
      "text/plain": [
       "<Figure size 432x288 with 1 Axes>"
      ]
     },
     "metadata": {},
     "output_type": "display_data"
    }
   ],
   "source": [
    "import matplotlib.pyplot as plt\n",
    "x=[1,1,2,3,3,5,7,8,9,10,\n",
    "   10,11,11,13,13,15,16,17,18,18,\n",
    "   18,19,20,21,21,23,24,24,25,25,\n",
    "   25,25,26,26,26,27,27,27,27,27,\n",
    "   29,30,30,31,33,34,34,34,35,36,\n",
    "   36,37,37,38,38,39,40,41,41,42,\n",
    "   43,44,45,45,46,47,48,48,49,50,\n",
    "   51,52,53,54,55,55,56,57,58,60,\n",
    "   61,63,64,65,66,68,70,71,72,74,\n",
    "   75,77,81,83,84,87,89,90,90,91\n",
    "  ]\n",
    "plt.style.use('ggplot')\n",
    "plt.hist(x,bins=10)\n",
    "plt.show()"
   ]
  },
  {
   "cell_type": "code",
   "execution_count": 5,
   "metadata": {},
   "outputs": [
    {
     "name": "stdout",
     "output_type": "stream",
     "text": [
      "X: [ 3.28474412 -1.12486671  0.71147651  1.86852705 -2.87848647 -6.54869016\n",
      "  0.94918181  1.00197559  0.50722636  0.56703952]\n",
      "skewness for data: -1.240542226093986\n"
     ]
    }
   ],
   "source": [
    "from scipy.stats import skew\n",
    "import numpy as np\n",
    "x=np.random.normal(0,5,10)\n",
    "print(\"X:\",x)\n",
    "print(\"skewness for data:\",skew(x))\n"
   ]
  },
  {
   "cell_type": "code",
   "execution_count": null,
   "metadata": {},
   "outputs": [],
   "source": []
  }
 ],
 "metadata": {
  "kernelspec": {
   "display_name": "Python 3",
   "language": "python",
   "name": "python3"
  },
  "language_info": {
   "codemirror_mode": {
    "name": "ipython",
    "version": 3
   },
   "file_extension": ".py",
   "mimetype": "text/x-python",
   "name": "python",
   "nbconvert_exporter": "python",
   "pygments_lexer": "ipython3",
   "version": "3.7.4"
  }
 },
 "nbformat": 4,
 "nbformat_minor": 2
}
